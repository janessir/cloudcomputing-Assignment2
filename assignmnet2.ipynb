{
 "cells": [
  {
   "cell_type": "code",
   "execution_count": 4,
   "metadata": {},
   "outputs": [],
   "source": [
    "import networkx as nx\n",
    "import numpy as np\n",
    "import matplotlib.pyplot as plt"
   ]
  },
  {
   "cell_type": "code",
   "execution_count": 70,
   "metadata": {},
   "outputs": [],
   "source": [
    "'''\n",
    "Implementing the iterative pagerank algorithm\n",
    "'''\n",
    "\n",
    "# distribution_vecor E is the pr distribution of ranks of web pages that users jump to when they get bored after successive links at ranodm\n",
    "def build_transition_matrix(G, distribution_vector=None):\n",
    "    \"\"\"\n",
    "    Absorbing pages: (dead) Pages which have an incoming link, but no outgoing link (AKA Dangling links). \n",
    "    In this case, we assume that if random surfer happens to land at such a page(node), they can teleport to any of the nodes with equal probability. This helps the algorithm to converge\n",
    "\n",
    "    \"\"\"\n",
    "    num_pages = len(G.nodes())\n",
    "    transition_matrix = np.zeros(shape=(num_pages, num_pages))\n",
    "\n",
    "    # building standard distribution_vector E if none provided \n",
    "    if distribution_vector is None:\n",
    "        # all entries of random_surf = 1/T\n",
    "        distribution_vector = np.ones(shape = (num_pages, )) /num_pages\n",
    "\n",
    "    # distribution_vector is provided by not appropraite\n",
    "    elif len(distribution_vector) != num_pages:\n",
    "        print(f\"Distribution Vector has incorrect dimensions!\\nShape of distribution_vector = {distribution_vector.shape}\\nShape of Transition Matrix = {transition_matrix.shape}\")\n",
    "        exit()\n",
    "\n",
    "    # building adjacent matrix from graph\n",
    "    # '1' and '0' represent the presence or absence of a link between any two pages\n",
    "    adj_matrix = np.zeros(shape=(num_pages, num_pages))\n",
    "    for link in G.edges():\n",
    "        adj_matrix[link[0]-1, link[1]-1] = 1 # -1 since nodes index starts from 1\n",
    "    # print(adj_matrix)\n",
    "\n",
    "    # building transition matrix\n",
    "    # entries value: 1/T\n",
    "    \n",
    "    # Calculate the sum of outgoing edges for each node\n",
    "    out_degree = np.sum(adj_matrix, axis=1)\n",
    "    # Avoid division by zero using NumPy broadcasting\n",
    "    # Divide only where out_degree is not zero, otherwise keep the value as zero\n",
    "    transition_matrix = np.where(out_degree[:, np.newaxis] != 0, adj_matrix / out_degree[:, np.newaxis], 0)\n",
    "    # print(transition_matrix)\n",
    "    \n",
    "    # building stochastic transition matrix for absorbing pages, ie nodes with col that are all 0\n",
    "    distribution_matrix = np.zeros(shape=(num_pages, num_pages)) \n",
    "    for page in G.nodes():\n",
    "        # Check for any dead nodes\n",
    "        if len(G.out_edges(page))==0:\n",
    "            distribution_matrix[:, page-1] = distribution_vector # -1 since nodes index starts from 1\n",
    "    # print(distribution_matrix)\n",
    "    \n",
    "    # stochastic matrix\n",
    "    stochastic_matrix = transition_matrix + distribution_matrix\n",
    "    # print(stochastic_matrix)\n",
    "    \n",
    "    return np.transpose(stochastic_matrix), distribution_vector\n",
    "\n",
    "\n",
    "def pagerank(G, teleport_pr=0.2, initial_pagerank=None, distribution_vector=None, max_iterations=100, tolerance=1.0e-6):\n",
    "    \"\"\"\n",
    "    Teleportation probability: Probability that a random surfer no longer wants to keep following hyperlinks, but restarts the search process. \n",
    "    \"\"\"\n",
    "    num_pages = len(G.nodes())\n",
    "\n",
    "    # Initializing initial pagerank, R0\n",
    "    if initial_pagerank is None:\n",
    "        initial_pagerank = np.ones(num_pages) / num_pages\n",
    "    elif len(initial_pagerank) != num_pages:\n",
    "        print(f\"Initial Pagerank Vector has incorrect dimensions!\\nShape of initial_pagerank = {initial_pagerank.shape}\\nShape of Transition Matrix = ({num_pages}, {num_pages})\")\n",
    "        exit()\n",
    "    pagerank = initial_pagerank\n",
    "\n",
    "    # Building transition probability matrix M\n",
    "    pagerank_matrix, distribution_vector = build_transition_matrix(G, distribution_vector)\n",
    "    # print(pagerank_matrix)\n",
    "\n",
    "    # Keep track of L1 norm between pageranks of successive iterations\n",
    "    norm_history = []\n",
    "    #Keep track of pagerank histories\n",
    "    pagerank_history = []\n",
    "    pagerank_history.append(pagerank)\n",
    "    \n",
    "    # Iterate until convergence\n",
    "    for i in range(max_iterations):\n",
    "        # Formula\n",
    "        new_pagerank = (1 - teleport_pr) * np.dot(pagerank_matrix, pagerank) + teleport_pr * distribution_vector\n",
    "\n",
    "        # accumulate norm\n",
    "        norm = np.linalg.norm(new_pagerank - pagerank, 1)\n",
    "        norm_history.append(norm)\n",
    "\n",
    "        # check for convergence\n",
    "        if norm < tolerance:\n",
    "            break\n",
    "\n",
    "        pagerank = new_pagerank\n",
    "        pagerank_history.append(pagerank)\n",
    "    \n",
    "    closed_form_pagerank = calc_closed_form(pagerank_matrix, teleport_pr, distribution_vector)\n",
    "    print_statistics(G, teleport_pr, initial_pagerank, distribution_vector, max_iterations, tolerance, pagerank_matrix, pagerank, closed_form_pagerank, i, norm_history, pagerank_history)\n",
    "    return pagerank\n",
    "\n",
    "'''\n",
    "Obtain the closed form solution to valifate that the page rank algorithm converges numerically, using\n",
    "R = (I - c1M)^-1 b\n",
    "'''\n",
    "def calc_closed_form(M, teleport_pr, distribution_vector):\n",
    "    n = len(M)\n",
    "\n",
    "    # Identity Matrix\n",
    "    I = np.eye(n)\n",
    "\n",
    "    # Construct b vector\n",
    "    b = teleport_pr * distribution_vector\n",
    "\n",
    "    # Calculate (I - (1 - teleportation_probability) * M)^-1\n",
    "    R_inv = np.linalg.inv(I - (1 - teleport_pr) * M)\n",
    "\n",
    "    # Calculate R = (I - (1 - teleportation_probability) * M)^-1 * b\n",
    "    R = np.dot(R_inv, b)\n",
    "\n",
    "    return R\n",
    "\n",
    "\n",
    "def print_statistics(G, teleport_pr, initial_pagerank, distribution_vector, max_iterations, tolerance, pagerank_matrix, final_pagerank, closed_form_pagerank, iteration, norm_history, pagerank_history):\n",
    "    # Print example definitions\n",
    "    print(f\"\\nProblem definition..\")\n",
    "    print(\"Number of pages: \", len(G.nodes()))\n",
    "    print(\"Number of links: \", len(G.edges()))\n",
    "    print(f\"\\nInitial Pagerank: \", initial_pagerank)\n",
    "    print(\"Distribution Vector: \", distribution_vector)\n",
    "    print(\"Teleportation Probability: \", teleport_pr)\n",
    "    print(f\"\\ti.e. alpha: \", 1-teleport_pr)\n",
    "    # print(f\"\\nmax_iterations: \", max_iterations)\n",
    "    # print(f\"tolerance: \", tolerance)\n",
    "\n",
    "    # Print intermediate results\n",
    "    print(f\"\\nPagerank Matrix..\\n\" , pagerank_matrix)\n",
    "\n",
    "    # Print Results\n",
    "    print(f\"\\n=======================Results=======================\")\n",
    "    print(\"Sanity Check: \", sanity_check(final_pagerank, closed_form_pagerank))\n",
    "    print(f\"\\nClosed form solution (to validate with)..\")\n",
    "    print(closed_form_pagerank)\n",
    "    print(f\"\\nPower Iteration PageRank..\")\n",
    "    print(final_pagerank)\n",
    "    print(f\"\\nConverged at {iteration+1} iterations..\")\n",
    "    for i in range(iteration):\n",
    "        print(f\"iteration {i}: \", pagerank_history[iteration])\n",
    "    # Display Convergence Plot\n",
    "    plt.figure(figsize=(5,4))\n",
    "    plt.plot(range(iteration+1), norm_history)\n",
    "    plt.xlabel('iterations')\n",
    "    plt.ylabel('Euclidean Norm')\n",
    "    plt.title('Convergence plot')\n",
    "    plt.show()\n",
    "\n",
    "def sanity_check(iteration, closed_form):\n",
    "    if np.allclose(iteration, closed_form,rtol=1e-03,atol=1e-03):\n",
    "        #print(\"Power iteration and closed form yielded the same page rank\")\n",
    "        return \"Correct\"\n",
    "    else:\n",
    "        #print(\"Power iteration and closed form are incorrect\")\n",
    "        return \"Incorrect\"\n"
   ]
  },
  {
   "cell_type": "markdown",
   "metadata": {},
   "source": [
    "# Experiments"
   ]
  },
  {
   "cell_type": "markdown",
   "metadata": {},
   "source": [
    "## Four-webpages on Slide 53 of Lecture 7"
   ]
  },
  {
   "cell_type": "markdown",
   "metadata": {},
   "source": [
    "### Standard inputs"
   ]
  },
  {
   "cell_type": "code",
   "execution_count": 64,
   "metadata": {},
   "outputs": [
    {
     "data": {
      "image/png": "[encoded data removed]",
      "text/plain": [
       "<Figure size 640x480 with 1 Axes>"
      ]
     },
     "metadata": {},
     "output_type": "display_data"
    }
   ],
   "source": [
    "# 4 web-pages example in Lecture slides 53\n",
    "g1 = nx.DiGraph()\n",
    "g1.add_edges_from([(1,2), (1,3), (1,4),\n",
    "                   (2,1), (2,4),\n",
    "                   (3,3),\n",
    "                   (4,2), (4,3)])\n",
    "nx.draw_networkx(g1)"
   ]
  },
  {
   "cell_type": "code",
   "execution_count": 71,
   "metadata": {},
   "outputs": [
    {
     "name": "stdout",
     "output_type": "stream",
     "text": [
      "\n",
      "Problem definition..\n",
      "Number of pages:  4\n",
      "Number of links:  8\n",
      "\n",
      "Initial Pagerank:  [0.25 0.25 0.25 0.25]\n",
      "Distribution Vector:  [0.25 0.25 0.25 0.25]\n",
      "Teleportation Probability:  0.2\n",
      "\ti.e. alpha:  0.8\n",
      "\n",
      "Pagerank Matrix..\n",
      " [[0.         0.5        0.         0.        ]\n",
      " [0.33333333 0.         0.         0.5       ]\n",
      " [0.33333333 0.         1.         0.5       ]\n",
      " [0.33333333 0.5        0.         0.        ]]\n",
      "\n",
      "=======================Results=======================\n",
      "Sanity Check:  Correct\n",
      "\n",
      "Closed form solution (to validate with)..\n",
      "[0.10135135 0.12837838 0.64189189 0.12837838]\n",
      "\n",
      "Power Iteration PageRank..\n",
      "[0.10135159 0.12837872 0.64189097 0.12837872]\n",
      "\n",
      "Converged at 25 iterations..\n",
      "iteration 0:  [0.10135159 0.12837872 0.64189097 0.12837872]\n",
      "iteration 1:  [0.10135159 0.12837872 0.64189097 0.12837872]\n",
      "iteration 2:  [0.10135159 0.12837872 0.64189097 0.12837872]\n",
      "iteration 3:  [0.10135159 0.12837872 0.64189097 0.12837872]\n",
      "iteration 4:  [0.10135159 0.12837872 0.64189097 0.12837872]\n",
      "iteration 5:  [0.10135159 0.12837872 0.64189097 0.12837872]\n",
      "iteration 6:  [0.10135159 0.12837872 0.64189097 0.12837872]\n",
      "iteration 7:  [0.10135159 0.12837872 0.64189097 0.12837872]\n",
      "iteration 8:  [0.10135159 0.12837872 0.64189097 0.12837872]\n",
      "iteration 9:  [0.10135159 0.12837872 0.64189097 0.12837872]\n",
      "iteration 10:  [0.10135159 0.12837872 0.64189097 0.12837872]\n",
      "iteration 11:  [0.10135159 0.12837872 0.64189097 0.12837872]\n",
      "iteration 12:  [0.10135159 0.12837872 0.64189097 0.12837872]\n",
      "iteration 13:  [0.10135159 0.12837872 0.64189097 0.12837872]\n",
      "iteration 14:  [0.10135159 0.12837872 0.64189097 0.12837872]\n",
      "iteration 15:  [0.10135159 0.12837872 0.64189097 0.12837872]\n",
      "iteration 16:  [0.10135159 0.12837872 0.64189097 0.12837872]\n",
      "iteration 17:  [0.10135159 0.12837872 0.64189097 0.12837872]\n",
      "iteration 18:  [0.10135159 0.12837872 0.64189097 0.12837872]\n",
      "iteration 19:  [0.10135159 0.12837872 0.64189097 0.12837872]\n",
      "iteration 20:  [0.10135159 0.12837872 0.64189097 0.12837872]\n",
      "iteration 21:  [0.10135159 0.12837872 0.64189097 0.12837872]\n",
      "iteration 22:  [0.10135159 0.12837872 0.64189097 0.12837872]\n",
      "iteration 23:  [0.10135159 0.12837872 0.64189097 0.12837872]\n"
     ]
    },
    {
     "data": {
      "image/png": "[encoded data removed]",
      "text/plain": [
       "<Figure size 500x400 with 1 Axes>"
      ]
     },
     "metadata": {},
     "output_type": "display_data"
    },
    {
     "data": {
      "text/plain": [
       "array([0.10135159, 0.12837872, 0.64189097, 0.12837872])"
      ]
     },
     "execution_count": 71,
     "metadata": {},
     "output_type": "execute_result"
    }
   ],
   "source": [
    "pagerank(g1, teleport_pr=0.2)"
   ]
  },
  {
   "cell_type": "code",
   "execution_count": null,
   "metadata": {},
   "outputs": [],
   "source": []
  },
  {
   "cell_type": "code",
   "execution_count": null,
   "metadata": {},
   "outputs": [],
   "source": []
  }
 ],
 "metadata": {
  "kernelspec": {
   "display_name": ".venv",
   "language": "python",
   "name": "python3"
  },
  "language_info": {
   "codemirror_mode": {
    "name": "ipython",
    "version": 3
   },
   "file_extension": ".py",
   "mimetype": "text/x-python",
   "name": "python",
   "nbconvert_exporter": "python",
   "pygments_lexer": "ipython3",
   "version": "3.8.5"
  }
 },
 "nbformat": 4,
 "nbformat_minor": 2
}
